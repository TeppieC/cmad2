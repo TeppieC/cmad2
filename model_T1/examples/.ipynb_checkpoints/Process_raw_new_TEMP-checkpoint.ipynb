{
 "cells": [
  {
   "cell_type": "markdown",
   "metadata": {},
   "source": [
    "- Truncate audio based on the TXT captions file\n",
    "- Generate TXT and VTT files for Front-end\n",
    "\n",
    "Execute after upload, not yet implemented"
   ]
  },
  {
   "cell_type": "code",
   "execution_count": 1,
   "metadata": {},
   "outputs": [
    {
     "name": "stderr",
     "output_type": "stream",
     "text": [
      "/anaconda3/envs/analysis/lib/python3.7/site-packages/pydub/utils.py:170: RuntimeWarning: Couldn't find ffmpeg or avconv - defaulting to ffmpeg, but may not work\n",
      "  warn(\"Couldn't find ffmpeg or avconv - defaulting to ffmpeg, but may not work\", RuntimeWarning)\n"
     ]
    }
   ],
   "source": [
    "from pyAudioAnalysis import ShortTermFeatures as aF\n",
    "from pyAudioAnalysis import audioBasicIO as aIO \n",
    "import os\n",
    "import numpy as np\n",
    "from scipy.io import wavfile\n",
    "import pandas as pd\n",
    "import datetime"
   ]
  },
  {
   "cell_type": "code",
   "execution_count": 2,
   "metadata": {},
   "outputs": [],
   "source": [
    "def covertToSecs(time_str):\n",
    "    hr, mi, se = time_str.split(':')\n",
    "    return int(hr)*3600 + int(mi)*60 + int(se)"
   ]
  },
  {
   "cell_type": "code",
   "execution_count": 3,
   "metadata": {},
   "outputs": [
    {
     "data": {
      "text/plain": [
       "'\\nRequired structure for the uploads folder:\\n-- /raw_data\\n---- [course]_raw.txt\\n---- [course].wav\\n---- /unsorted\\n\\n'"
      ]
     },
     "execution_count": 3,
     "metadata": {},
     "output_type": "execute_result"
    }
   ],
   "source": [
    "\"\"\"\n",
    "Required structure for the uploads folder:\n",
    "-- /raw_data\n",
    "---- [course]_raw.txt\n",
    "---- [course].wav\n",
    "---- /unsorted\n",
    "\n",
    "\"\"\""
   ]
  },
  {
   "cell_type": "code",
   "execution_count": 4,
   "metadata": {},
   "outputs": [],
   "source": [
    "filename = 'JP1_sample'"
   ]
  },
  {
   "cell_type": "code",
   "execution_count": 5,
   "metadata": {},
   "outputs": [],
   "source": [
    "def process_uploads(filename):\n",
    "    path = '../raw_data/'+filename+'/'\n",
    "    caption_file = path+filename+'_subs.txt' # uploaded\n",
    "    audio_file = path+filename+'.wav' # uploaded\n",
    "    output_audio_path = path+'unsorted/'\n",
    "    output_txt_path = path+'display/'\n",
    "    \n",
    "    fs, s = wavfile.read(audio_file) \n",
    "    duration = s.shape[0]/fs\n",
    "    audio_segs = {}\n",
    "    captions_tmp = []\n",
    "    with open(caption_file,'r') as f:\n",
    "        captions_tmp = f.readlines()\n",
    "\n",
    "    captions = {} # extract captions\n",
    "    captions_raw = {}\n",
    "    for line in captions_tmp[1:]: # skip the header\n",
    "        tm,sub = line.split('\\t', 1) # it was \\t not space\n",
    "        start = covertToSecs(tm)\n",
    "        captions[start] = sub.strip()\n",
    "        captions_raw[tm] = sub.strip()\n",
    "    \n",
    "    audio_segs = {}\n",
    "    tms = list(captions.keys())\n",
    "    for i,tm in enumerate(tms):\n",
    "        if i < len(tms)-1:\n",
    "            audio_segs[tm] = s[tms[i] * fs: (tms[i+1]) * fs]\n",
    "        else:\n",
    "            audio_segs[tm] = s[tms[i] * fs: ]\n",
    "\n",
    "    for tm,seg in audio_segs.items():\n",
    "        wavfile.write(output_audio_path+str(tm)+'.000'+'.wav', fs, seg)\n",
    "    \n",
    "    # To generate VTT file\n",
    "    with open(output_txt_path+filename+'.vtt','w') as f:\n",
    "        f.write('WEBVTT\\n\\n')\n",
    "\n",
    "        tms = list(captions_raw.keys())\n",
    "        for i,tm in enumerate(tms):\n",
    "            if i < len(tms)-1:\n",
    "                f.write(\"%s.000 --> %s.000\\n\"%(tms[i],tms[i+1]))\n",
    "                f.write(captions_raw[tms[i]]+'\\n\\n')\n",
    "            else:\n",
    "                f.write(\"%s.000 --> %s\\n\"%(tms[i], str(datetime.timedelta(seconds=duration))))\n",
    "                f.write(captions_raw[tms[i]]+'\\n\\n')\n",
    "                \n",
    "    # To generate TXT file\n",
    "    with open(output_txt_path+filename+'.txt','w') as f:\n",
    "        tms = list(captions.keys())\n",
    "        f.write('0.000 %s.000\\n'%tms[0])\n",
    "        for i,tm in enumerate(tms):\n",
    "            if i < len(tms)-1:\n",
    "                f.write(\"%s.000 %s.000\\n\"%(tms[i],tms[i+1]))\n",
    "            else:\n",
    "                f.write(\"%s.000 %.3f\\n\"%(tms[i], float(duration)))"
   ]
  },
  {
   "cell_type": "code",
   "execution_count": 6,
   "metadata": {},
   "outputs": [
    {
     "ename": "FileNotFoundError",
     "evalue": "[Errno 2] No such file or directory: '../raw_data/JP1_sample/JP1_sample_raw.txt'",
     "output_type": "error",
     "traceback": [
      "\u001b[0;31m---------------------------------------------------------------------------\u001b[0m",
      "\u001b[0;31mFileNotFoundError\u001b[0m                         Traceback (most recent call last)",
      "\u001b[0;32m<ipython-input-6-c46ec4f4f105>\u001b[0m in \u001b[0;36m<module>\u001b[0;34m\u001b[0m\n\u001b[0;32m----> 1\u001b[0;31m \u001b[0mprocess_uploads\u001b[0m\u001b[0;34m(\u001b[0m\u001b[0mfilename\u001b[0m\u001b[0;34m)\u001b[0m\u001b[0;34m\u001b[0m\u001b[0;34m\u001b[0m\u001b[0m\n\u001b[0m",
      "\u001b[0;32m<ipython-input-5-e80cbf4d7584>\u001b[0m in \u001b[0;36mprocess_uploads\u001b[0;34m(filename)\u001b[0m\n\u001b[1;32m     10\u001b[0m     \u001b[0maudio_segs\u001b[0m \u001b[0;34m=\u001b[0m \u001b[0;34m{\u001b[0m\u001b[0;34m}\u001b[0m\u001b[0;34m\u001b[0m\u001b[0;34m\u001b[0m\u001b[0m\n\u001b[1;32m     11\u001b[0m     \u001b[0mcaptions_tmp\u001b[0m \u001b[0;34m=\u001b[0m \u001b[0;34m[\u001b[0m\u001b[0;34m]\u001b[0m\u001b[0;34m\u001b[0m\u001b[0;34m\u001b[0m\u001b[0m\n\u001b[0;32m---> 12\u001b[0;31m     \u001b[0;32mwith\u001b[0m \u001b[0mopen\u001b[0m\u001b[0;34m(\u001b[0m\u001b[0mcaption_file\u001b[0m\u001b[0;34m,\u001b[0m\u001b[0;34m'r'\u001b[0m\u001b[0;34m)\u001b[0m \u001b[0;32mas\u001b[0m \u001b[0mf\u001b[0m\u001b[0;34m:\u001b[0m\u001b[0;34m\u001b[0m\u001b[0;34m\u001b[0m\u001b[0m\n\u001b[0m\u001b[1;32m     13\u001b[0m         \u001b[0mcaptions_tmp\u001b[0m \u001b[0;34m=\u001b[0m \u001b[0mf\u001b[0m\u001b[0;34m.\u001b[0m\u001b[0mreadlines\u001b[0m\u001b[0;34m(\u001b[0m\u001b[0;34m)\u001b[0m\u001b[0;34m\u001b[0m\u001b[0;34m\u001b[0m\u001b[0m\n\u001b[1;32m     14\u001b[0m \u001b[0;34m\u001b[0m\u001b[0m\n",
      "\u001b[0;31mFileNotFoundError\u001b[0m: [Errno 2] No such file or directory: '../raw_data/JP1_sample/JP1_sample_raw.txt'"
     ]
    }
   ],
   "source": [
    "process_uploads(filename)"
   ]
  },
  {
   "cell_type": "code",
   "execution_count": null,
   "metadata": {},
   "outputs": [],
   "source": []
  }
 ],
 "metadata": {
  "kernelspec": {
   "display_name": "Python 3",
   "language": "python",
   "name": "python3"
  },
  "language_info": {
   "codemirror_mode": {
    "name": "ipython",
    "version": 3
   },
   "file_extension": ".py",
   "mimetype": "text/x-python",
   "name": "python",
   "nbconvert_exporter": "python",
   "pygments_lexer": "ipython3",
   "version": "3.7.7"
  },
  "toc": {
   "base_numbering": 1,
   "nav_menu": {},
   "number_sections": true,
   "sideBar": true,
   "skip_h1_title": false,
   "title_cell": "Table of Contents",
   "title_sidebar": "Contents",
   "toc_cell": false,
   "toc_position": {},
   "toc_section_display": true,
   "toc_window_display": false
  }
 },
 "nbformat": 4,
 "nbformat_minor": 2
}
