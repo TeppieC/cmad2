{
 "cells": [
  {
   "cell_type": "code",
   "execution_count": 1,
   "metadata": {},
   "outputs": [],
   "source": [
    "import json\n",
    "import numpy as np\n",
    "import os\n",
    "import pandas as pd\n",
    "import random"
   ]
  },
  {
   "cell_type": "code",
   "execution_count": 2,
   "metadata": {},
   "outputs": [],
   "source": [
    "# To create a pseudo JSON file for testing the back-end"
   ]
  },
  {
   "cell_type": "code",
   "execution_count": 10,
   "metadata": {},
   "outputs": [],
   "source": [
    "with open('../raw_data/JP1_sample/display/JP1_sample.txt','r') as f:\n",
    "    fr = f.read()\n",
    "    lines = fr.split('\\n')\n",
    "annos = {}\n",
    "for line in lines:\n",
    "    if line:\n",
    "        start = line.split()[0]\n",
    "        if int(float(start))<=50:\n",
    "            annos[start] = random.choice(['S','T','O'])\n",
    "        else:\n",
    "            break"
   ]
  },
  {
   "cell_type": "code",
   "execution_count": 11,
   "metadata": {},
   "outputs": [],
   "source": [
    "rq = {'file':'JP1_sample','type':'first-time','annos':annos,'sessionId':10001,'userId':1111}"
   ]
  },
  {
   "cell_type": "code",
   "execution_count": 12,
   "metadata": {},
   "outputs": [
    {
     "data": {
      "text/plain": [
       "{'file': 'JP1',\n",
       " 'type': 'first-time',\n",
       " 'annos': {'0.000': 'T',\n",
       "  '2.000': 'O',\n",
       "  '4.000': 'T',\n",
       "  '8.000': 'O',\n",
       "  '9.000': 'S',\n",
       "  '14.000': 'O',\n",
       "  '16.000': 'S',\n",
       "  '22.000': 'T',\n",
       "  '32.000': 'O',\n",
       "  '34.000': 'O',\n",
       "  '35.000': 'O',\n",
       "  '37.000': 'S',\n",
       "  '39.000': 'O',\n",
       "  '45.000': 'S',\n",
       "  '48.000': 'T'},\n",
       " 'sessionId': 10001,\n",
       " 'userId': 1111}"
      ]
     },
     "execution_count": 12,
     "metadata": {},
     "output_type": "execute_result"
    }
   ],
   "source": [
    "rq"
   ]
  },
  {
   "cell_type": "code",
   "execution_count": 13,
   "metadata": {},
   "outputs": [],
   "source": [
    "with open('JP1_sample_rq.json', 'w') as f:\n",
    "    f.write(json.dumps(rq))"
   ]
  },
  {
   "cell_type": "code",
   "execution_count": 16,
   "metadata": {},
   "outputs": [
    {
     "name": "stdout",
     "output_type": "stream",
     "text": [
      "\n"
     ]
    }
   ],
   "source": [
    "with open('../raw_data/JP1_sample/display/JP1_sample.txt','r') as f:\n",
    "    fr = f.read()\n",
    "    lines = fr.split('\\n')\n",
    "pseudo_gtps = {}\n",
    "for line in lines:\n",
    "    try:\n",
    "        start = line.split()[0]\n",
    "        if int(float(start))>50:\n",
    "            pseudo_gtps[start] = random.choice(['S','T','O'])\n",
    "    except IndexError:\n",
    "        print(line)"
   ]
  },
  {
   "cell_type": "code",
   "execution_count": 17,
   "metadata": {},
   "outputs": [
    {
     "data": {
      "text/plain": [
       "{'53.000': 'T',\n",
       " '56.000': 'S',\n",
       " '60.000': 'T',\n",
       " '87.000': 'O',\n",
       " '91.000': 'S',\n",
       " '95.000': 'T',\n",
       " '103.000': 'T',\n",
       " '106.000': 'O',\n",
       " '108.000': 'O',\n",
       " '111.000': 'S',\n",
       " '117.000': 'T',\n",
       " '152.000': 'S'}"
      ]
     },
     "execution_count": 17,
     "metadata": {},
     "output_type": "execute_result"
    }
   ],
   "source": [
    "pseudo_gtps"
   ]
  },
  {
   "cell_type": "code",
   "execution_count": 18,
   "metadata": {},
   "outputs": [],
   "source": [
    "with open('JP1_sample_pseudo_gtps.json', 'w') as f:\n",
    "    f.write(json.dumps(pseudo_gtps))"
   ]
  },
  {
   "cell_type": "code",
   "execution_count": 12,
   "metadata": {},
   "outputs": [],
   "source": [
    "# To create a sample yaml dic"
   ]
  },
  {
   "cell_type": "code",
   "execution_count": 13,
   "metadata": {},
   "outputs": [],
   "source": [
    "import yaml"
   ]
  },
  {
   "cell_type": "code",
   "execution_count": 14,
   "metadata": {},
   "outputs": [
    {
     "name": "stderr",
     "output_type": "stream",
     "text": [
      "/anaconda3/envs/analysis/lib/python3.7/site-packages/ipykernel_launcher.py:1: YAMLLoadWarning: calling yaml.load() without Loader=... is deprecated, as the default Loader is unsafe. Please read https://msg.pyyaml.org/load for full details.\n",
      "  \"\"\"Entry point for launching an IPython kernel.\n"
     ]
    },
    {
     "data": {
      "text/plain": [
       "{'inpath': '../raw_data/JP2',\n",
       " 'outpath': './JP2_out',\n",
       " 'enroll_sessions_s': 10,\n",
       " 'test_sessions_s': 20,\n",
       " 'enroll_sessions_t': 10,\n",
       " 'test_sessions_t': 60,\n",
       " 'num_training': 20,\n",
       " 'speakers': ['S1', 'S2', 'S3', 'S4', 'S5', 'S6', 'T'],\n",
       " 'sampling_rate': 16000,\n",
       " 'bit_precision': 16,\n",
       " 'no_channels': 1,\n",
       " 'features': ['vad', 'energy', 'cep', 'fb'],\n",
       " 'cepstral_coefficients': 19,\n",
       " 'filter_bank': 'log',\n",
       " 'filter_bank_size': 24,\n",
       " 'lower_frequency': 300,\n",
       " 'higher_frequency': 3400,\n",
       " 'vad': 'snr',\n",
       " 'snr_ratio': 40,\n",
       " 'window_size': 0.025,\n",
       " 'window_shift': 0.01,\n",
       " 'num_gaussians': 32,\n",
       " 'batch_size': 30,\n",
       " 'tv_rank': 25,\n",
       " 'tv_iterations': 50,\n",
       " 'scoring': 'cosine',\n",
       " 'DET_curve': 'rocch'}"
      ]
     },
     "execution_count": 14,
     "metadata": {},
     "output_type": "execute_result"
    }
   ],
   "source": [
    "yaml.load(open('JP2.yaml'))"
   ]
  },
  {
   "cell_type": "code",
   "execution_count": null,
   "metadata": {},
   "outputs": [],
   "source": []
  }
 ],
 "metadata": {
  "kernelspec": {
   "display_name": "Python 3",
   "language": "python",
   "name": "python3"
  },
  "language_info": {
   "codemirror_mode": {
    "name": "ipython",
    "version": 3
   },
   "file_extension": ".py",
   "mimetype": "text/x-python",
   "name": "python",
   "nbconvert_exporter": "python",
   "pygments_lexer": "ipython3",
   "version": "3.7.7"
  },
  "toc": {
   "base_numbering": 1,
   "nav_menu": {},
   "number_sections": true,
   "sideBar": true,
   "skip_h1_title": false,
   "title_cell": "Table of Contents",
   "title_sidebar": "Contents",
   "toc_cell": false,
   "toc_position": {},
   "toc_section_display": true,
   "toc_window_display": false
  }
 },
 "nbformat": 4,
 "nbformat_minor": 4
}
